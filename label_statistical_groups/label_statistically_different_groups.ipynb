{
 "cells": [
  {
   "cell_type": "code",
   "execution_count": 1,
   "metadata": {},
   "outputs": [],
   "source": [
    "import numpy as np\n",
    "import matplotlib.pyplot as plt"
   ]
  },
  {
   "cell_type": "code",
   "execution_count": 19,
   "metadata": {},
   "outputs": [],
   "source": [
    "import pairs2groups # pip install pairs2groups\n",
    "import fly_plot_lib.plot as fpl # python -m pip install 'fly_plot_lib @ git+https://https://github.com/florisvb/FlyPlotLib\n",
    "import figurefirst as fifi # pip install figurefirst"
   ]
  },
  {
   "cell_type": "markdown",
   "metadata": {},
   "source": [
    "# Make some fake data"
   ]
  },
  {
   "cell_type": "code",
   "execution_count": 31,
   "metadata": {},
   "outputs": [],
   "source": [
    "D1 = np.random.normal(1, 2, 10)\n",
    "D2 = np.random.normal(5, 2, 15)\n",
    "D3 = np.random.normal(1.2, 3, 12)\n",
    "D4 = np.random.normal(3, 5, 20)\n",
    "\n",
    "data = {'wildtype': D1,\n",
    "         'cross A': D2,\n",
    "         'cross B': D3,\n",
    "         'cross C': D4}"
   ]
  },
  {
   "cell_type": "markdown",
   "metadata": {},
   "source": [
    "# Identify statistically signficant groups\n",
    "\n",
    "Uses two-tailed Mann-Whitney U-test at p<0.05 and Bonferroni corrections. "
   ]
  },
  {
   "cell_type": "code",
   "execution_count": 38,
   "metadata": {},
   "outputs": [
    {
     "name": "stdout",
     "output_type": "stream",
     "text": [
      "group_strings\n",
      "['a', 'b', 'a', 'ab']\n",
      "\n",
      "p_values\n",
      "[[           nan 1.55815600e-04 4.88717873e-01 4.47830740e-01]\n",
      " [1.55815600e-04            nan 2.25352937e-04 7.45320584e-02]\n",
      " [4.88717873e-01 2.25352937e-04            nan 3.01200607e-01]\n",
      " [4.47830740e-01 7.45320584e-02 3.01200607e-01            nan]]\n",
      "\n",
      "groups\n",
      "[(1, 3), (0, 2, 3)]\n",
      "\n",
      "medians\n",
      "[0.7805567689572077, 6.093676268624049, 0.08038735333458724, 2.7742197587187576]\n",
      "\n"
     ]
    }
   ],
   "source": [
    "group_info = pairs2groups.label_homogeneous_groups([data[k] for k in data.keys()], significance_level=0.05)\n",
    "group_strings = group_info['group_strings']\n",
    "\n",
    "for key, val in group_info.items():\n",
    "    print(key)\n",
    "    print(val)\n",
    "    print('')"
   ]
  },
  {
   "cell_type": "markdown",
   "metadata": {},
   "source": [
    "# Plot the data as scatter boxes\n",
    "\n",
    "For this plotting style, the scatter will show the real distribution of the data. The horizontal bar shows the mean (or median if you choose), and the shading shows the 95% confidence interval of the mean (or median). The advantage here is that the shading makes it easy to do your own rough statistical comparison: when shadings do not overlap, the different in means (or medians) is statistically significant. "
   ]
  },
  {
   "cell_type": "code",
   "execution_count": 39,
   "metadata": {},
   "outputs": [
    {
     "data": {
      "image/png": "[encoded data removed]",
      "text/plain": [
       "<Figure size 432x288 with 1 Axes>"
      ]
     },
     "metadata": {},
     "output_type": "display_data"
    }
   ],
   "source": [
    "fig = plt.figure(111)\n",
    "ax = fig.add_subplot(111)\n",
    "\n",
    "plotting_order = ['wildtype', 'cross A', 'cross B', 'cross C']\n",
    "\n",
    "colors = {'wildtype': 'black',\n",
    "          'cross A': 'blue',\n",
    "          'cross B': 'purple',\n",
    "          'cross C': 'green'}\n",
    "\n",
    "xticks = []\n",
    "for i, label in enumerate(plotting_order):\n",
    "    fpl.scatter_box(ax, i, data[label], color=colors[label], use='mean')\n",
    "    xticks.append(i)\n",
    "    \n",
    "fifi.mpl_functions.adjust_spines(ax, ['left', 'bottom'], xticks=xticks, yticks=[-5, 0, 5, 10])\n",
    "ax.set_xticklabels(plotting_order)\n",
    "ax.set_ylabel('Freakiness of flies, J')\n",
    "\n",
    "ylevel = 14\n",
    "for i, label in enumerate(plotting_order):\n",
    "    ax.text(i, ylevel, group_strings[i])"
   ]
  },
  {
   "cell_type": "markdown",
   "metadata": {},
   "source": [
    "##### Caption info: Letters above data indicate statistically significant groups (two-tailed Mann–Whitney U-test at P < 0.05 with four-way Bonferroni corrections). In all panels, shading indicates the bootstrapped 95% confidence interval around the mean."
   ]
  },
  {
   "cell_type": "code",
   "execution_count": null,
   "metadata": {},
   "outputs": [],
   "source": []
  }
 ],
 "metadata": {
  "kernelspec": {
   "display_name": "Python 3",
   "language": "python",
   "name": "python3"
  },
  "language_info": {
   "codemirror_mode": {
    "name": "ipython",
    "version": 3
   },
   "file_extension": ".py",
   "mimetype": "text/x-python",
   "name": "python",
   "nbconvert_exporter": "python",
   "pygments_lexer": "ipython3",
   "version": "3.5.2"
  }
 },
 "nbformat": 4,
 "nbformat_minor": 2
}
